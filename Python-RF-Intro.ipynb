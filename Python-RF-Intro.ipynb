{
 "cells": [
  {
   "cell_type": "markdown",
   "metadata": {},
   "source": [
    "# Introduction to Python\n",
    "\n",
    "* General purpose programming language\n",
    "* More redable than other lanuages\n",
    "* Multi paradidm language. Object-oriented, Functional\n",
    "* ZEN OF PYTHON"
   ]
  },
  {
   "cell_type": "code",
   "execution_count": 1,
   "metadata": {},
   "outputs": [
    {
     "name": "stdout",
     "output_type": "stream",
     "text": [
      "The Zen of Python, by Tim Peters\n",
      "\n",
      "Beautiful is better than ugly.\n",
      "Explicit is better than implicit.\n",
      "Simple is better than complex.\n",
      "Complex is better than complicated.\n",
      "Flat is better than nested.\n",
      "Sparse is better than dense.\n",
      "Readability counts.\n",
      "Special cases aren't special enough to break the rules.\n",
      "Although practicality beats purity.\n",
      "Errors should never pass silently.\n",
      "Unless explicitly silenced.\n",
      "In the face of ambiguity, refuse the temptation to guess.\n",
      "There should be one-- and preferably only one --obvious way to do it.\n",
      "Although that way may not be obvious at first unless you're Dutch.\n",
      "Now is better than never.\n",
      "Although never is often better than *right* now.\n",
      "If the implementation is hard to explain, it's a bad idea.\n",
      "If the implementation is easy to explain, it may be a good idea.\n",
      "Namespaces are one honking great idea -- let's do more of those!\n"
     ]
    }
   ],
   "source": [
    "import this"
   ]
  },
  {
   "cell_type": "markdown",
   "metadata": {},
   "source": [
    "## Installation\n",
    "\n",
    "- https://www.python.org/downloads/\n",
    "- python -V\n",
    "- pip -V"
   ]
  },
  {
   "cell_type": "code",
   "execution_count": 2,
   "metadata": {},
   "outputs": [
    {
     "name": "stdout",
     "output_type": "stream",
     "text": [
      "sys.version_info(major=3, minor=5, micro=3, releaselevel='final', serial=0)\n"
     ]
    }
   ],
   "source": [
    "import sys\n",
    "print(sys.version_info)"
   ]
  },
  {
   "cell_type": "markdown",
   "metadata": {},
   "source": [
    "## Data Types\n",
    "    \n",
    "#### Some immutable types\n",
    "\n",
    "    int, float, long, complex\n",
    "    str\n",
    "    bytes\n",
    "    tuple\n",
    "    frozen set\n",
    "    Boolean\n",
    "    array\n",
    "\n",
    "#### Some mutable types\n",
    "    \n",
    "    byte array\n",
    "    list\n",
    "    set\n",
    "    dict\n",
    "\n"
   ]
  },
  {
   "cell_type": "markdown",
   "metadata": {},
   "source": [
    "### Python Lists and operations\n",
    "\n"
   ]
  },
  {
   "cell_type": "code",
   "execution_count": 6,
   "metadata": {},
   "outputs": [
    {
     "name": "stdout",
     "output_type": "stream",
     "text": [
      "[1, 2, 3, 4]\n",
      "['a', 'v', 'i']\n",
      "['m', 4, [1, 2, 3, 4]]\n"
     ]
    }
   ],
   "source": [
    "# STATIC LISTS\n",
    "lst1 = [1, 2, 3, 4]       # integer item types\n",
    "lst2 = ['a', 'v', 'i']    # string item types\n",
    "\n",
    "lst3 = ['m', 4, lst1]     # heteregeneous item types\n",
    "\n",
    "print(lst1)\n",
    "print(lst2)\n",
    "print(lst3)"
   ]
  },
  {
   "cell_type": "code",
   "execution_count": 8,
   "metadata": {},
   "outputs": [
    {
     "name": "stdout",
     "output_type": "stream",
     "text": [
      "12 ORIGINAL : ['A', 'v', 'i', ' ', 'M', 'e', 'h', 'e', 'n', 'w', 'a', 'l']\n",
      "12 REVERSED : ['l', 'a', 'w', 'n', 'e', 'h', 'e', 'M', ' ', 'i', 'v', 'A']\n",
      "12 SORTED   : [' ', 'A', 'M', 'a', 'e', 'e', 'h', 'i', 'l', 'n', 'v', 'w']\n",
      "POP w      11 [' ', 'A', 'M', 'a', 'e', 'e', 'h', 'i', 'l', 'n', 'v']\n",
      "11 ORIGINAL : [' ', 'A', 'M', 'a', 'e', 'e', 'h', 'i', 'l', 'n', 'v']\n"
     ]
    }
   ],
   "source": [
    "# DYNAMIC LISTS\n",
    "name = 'Avi Mehenwal' # string type\n",
    "dlst = list()         # empty list\n",
    "\n",
    "for i in name:\n",
    "    dlst.append(i)    # list.append() operation\n",
    "\n",
    "print(len(dlst), 'ORIGINAL :', dlst)\n",
    "\n",
    "\n",
    "dlst.reverse()\n",
    "print(len(dlst), 'REVERSED :', dlst)\n",
    "\n",
    "dlst.sort()\n",
    "print(len(dlst), 'SORTED   :', dlst)\n",
    "\n",
    "print('POP', dlst.pop(), '    ', len(dlst), dlst)\n",
    "print(len(dlst), 'ORIGINAL :', dlst)\n"
   ]
  },
  {
   "cell_type": "markdown",
   "metadata": {},
   "source": [
    "### Python Dictionaries\n",
    "\n",
    "Key Value Hash values\n",
    "\n"
   ]
  },
  {
   "cell_type": "code",
   "execution_count": 11,
   "metadata": {},
   "outputs": [
    {
     "name": "stdout",
     "output_type": "stream",
     "text": [
      "{'surname': 'mehenwal', 'first': 'avi'}\n",
      "{'middle': 'kumar', 'surname': 'mehenwal', 'first': 'avi'}\n"
     ]
    }
   ],
   "source": [
    "# Static\n",
    "name = dict()\n",
    "name = {\n",
    "    \"first\" : \"avi\",\n",
    "    \"surname\" : \"mehenwal\"\n",
    "}\n",
    "\n",
    "print(name)\n",
    "\n",
    "# Dynamic\n",
    "name[\"middle\"] = \"kumar\"\n",
    "\n",
    "print(name)"
   ]
  },
  {
   "cell_type": "code",
   "execution_count": null,
   "metadata": {},
   "outputs": [],
   "source": []
  }
 ],
 "metadata": {
  "kernelspec": {
   "display_name": "Python 3",
   "language": "python",
   "name": "python3"
  },
  "language_info": {
   "codemirror_mode": {
    "name": "ipython",
    "version": 3
   },
   "file_extension": ".py",
   "mimetype": "text/x-python",
   "name": "python",
   "nbconvert_exporter": "python",
   "pygments_lexer": "ipython3",
   "version": "3.5.3"
  }
 },
 "nbformat": 4,
 "nbformat_minor": 2
}
